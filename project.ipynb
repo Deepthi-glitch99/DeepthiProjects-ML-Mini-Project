{
  "nbformat": 4,
  "nbformat_minor": 0,
  "metadata": {
    "colab": {
      "provenance": [],
      "authorship_tag": "ABX9TyPhIst5pr/QdG79YXRYs1S/",
      "include_colab_link": true
    },
    "kernelspec": {
      "name": "python3",
      "display_name": "Python 3"
    },
    "language_info": {
      "name": "python"
    }
  },
  "cells": [
    {
      "cell_type": "markdown",
      "metadata": {
        "id": "view-in-github",
        "colab_type": "text"
      },
      "source": [
        "<a href=\"https://colab.research.google.com/github/Deepthi-glitch99/DeepthiProjects-ML-Mini-Project/blob/main/project.ipynb\" target=\"_parent\"><img src=\"https://colab.research.google.com/assets/colab-badge.svg\" alt=\"Open In Colab\"/></a>"
      ]
    },
    {
      "cell_type": "code",
      "source": [
        "import cv2\n",
        "import numpy as np\n",
        "from skimage.metrics import structural_similarity as ssim\n",
        "from google.colab.patches import cv2_imshow\n",
        "\n",
        "def preprocess_signature(image_path):\n",
        "    img = cv2.imread(image_path, cv2.IMREAD_GRAYSCALE)\n",
        "    if img is None:\n",
        "        print(f\"Error: Could not load image from path: {image_path}\")\n",
        "        return None\n",
        "\n",
        "    img = cv2.resize(img, (300, 150))\n",
        "    _, img_thresh = cv2.threshold(img, 127, 255, cv2.THRESH_BINARY_INV)\n",
        "    return img_thresh\n",
        "\n",
        "def compare_signatures(sig1_path, sig2_path):\n",
        "    sig1 = preprocess_signature(sig1_path)\n",
        "    sig2 = preprocess_signature(sig2_path)\n",
        "\n",
        "    if sig1 is None or sig2 is None:\n",
        "        print(\"Comparison aborted due to image loading error.\")\n",
        "        return False\n",
        "\n",
        "    # SSIM computation\n",
        "    score, diff = ssim(sig1, sig2, full=True)\n",
        "\n",
        "    # Accuracy print\n",
        "    accuracy = score * 100\n",
        "    print(f\"SSIM Score: {score:.4f}\")\n",
        "    print(f\"🔍 Accuracy: {accuracy:.2f}%\")\n",
        "\n",
        "    # Display images\n",
        "    diff = (diff * 255).astype(\"uint8\")\n",
        "    cv2_imshow(sig1)\n",
        "    cv2_imshow(sig2)\n",
        "    cv2_imshow(diff)\n",
        "\n",
        "    return score > 0.90\n",
        "\n",
        "# Main block\n",
        "if __name__ == \"__main__\":\n",
        "    sig1_path = \"/content/IMG_20250606_140322.png\"\n",
        "    sig2_path = \"/content/IMG_20250606_140351.png\"\n",
        "    is_match = compare_signatures(sig1_path, sig2_path)\n",
        "\n",
        "    if is_match:\n",
        "        print(\"✅ Signatures MATCH\")\n",
        "    else:\n",
        "        print(\"❌ Signatures DO NOT match\")\n"
      ],
      "metadata": {
        "id": "7H2Oymrv96Du",
        "outputId": "521f98af-2db8-4844-d538-0759f7c1077f",
        "colab": {
          "base_uri": "https://localhost:8080/",
          "height": 519
        }
      },
      "execution_count": null,
      "outputs": [
        {
          "output_type": "stream",
          "name": "stdout",
          "text": [
            "SSIM Score: 0.9292\n",
            "🔍 Accuracy: 92.92%\n"
          ]
        },
        {
          "output_type": "display_data",
          "data": {
            "text/plain": [
              "<PIL.Image.Image image mode=L size=300x150>"
            ],
            "image/png": "[encoded data removed]",
            "image/jpeg": "[encoded data removed]"
          },
          "metadata": {}
        },
        {
          "output_type": "display_data",
          "data": {
            "text/plain": [
              "<PIL.Image.Image image mode=L size=300x150>"
            ],
            "image/png": "[encoded data removed]",
            "image/jpeg": "[encoded data removed]"
          },
          "metadata": {}
        },
        {
          "output_type": "display_data",
          "data": {
            "text/plain": [
              "<PIL.Image.Image image mode=L size=300x150>"
            ],
            "image/png": "[encoded data removed]",
            "image/jpeg": "[encoded data removed]"
          },
          "metadata": {}
        },
        {
          "output_type": "stream",
          "name": "stdout",
          "text": [
            "✅ Signatures MATCH\n"
          ]
        }
      ]
    }
  ]
}